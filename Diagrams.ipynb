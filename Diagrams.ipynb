{
  "nbformat": 4,
  "nbformat_minor": 0,
  "metadata": {
    "colab": {
      "private_outputs": true,
      "provenance": [],
      "mount_file_id": "1v_nzvvgl74fI5RB1oBEZkhXreBxMtGML",
      "authorship_tag": "ABX9TyNnADbJ/Vh6YEOBa4NG2WfD",
      "include_colab_link": true
    },
    "kernelspec": {
      "name": "python3",
      "display_name": "Python 3"
    },
    "language_info": {
      "name": "python"
    }
  },
  "cells": [
    {
      "cell_type": "markdown",
      "metadata": {
        "id": "view-in-github",
        "colab_type": "text"
      },
      "source": [
        "<a href=\"https://colab.research.google.com/github/GuerrSim96/GuerrSim96/blob/main/Diagrams.ipynb\" target=\"_parent\"><img src=\"https://colab.research.google.com/assets/colab-badge.svg\" alt=\"Open In Colab\"/></a>"
      ]
    },
    {
      "cell_type": "code",
      "source": [
        "!pip install upsetplot -q\n",
        "import pandas as pd\n",
        "import warnings\n",
        "warnings.simplefilter(action='ignore', category=FutureWarning) # Suppress pandas FutureWarnings\n",
        "import matplotlib.pyplot as plt\n",
        "import zipfile, os, shutil\n",
        "from matplotlib import pyplot as plt\n",
        "from matplotlib_venn import venn3, venn3_circles\n",
        "import seaborn as sns\n",
        "from upsetplot import UpSet\n",
        "from google.colab import files\n",
        "uploaded = files.upload() # Upload zip files of 3 group\n",
        "  # @title Extract file zip and move csv files in the working directory\n",
        "list_dir = os.listdir()\n",
        "for file_zip in list_dir:\n",
        "    if file_zip.endswith('.zip'):\n",
        "        with zipfile.ZipFile(file_zip, 'r') as zip_ref:\n",
        "            zip_ref.extractall()\n",
        "# Rename csv files\n",
        "csv_name_list = []\n",
        "cwd = os.getcwd()\n",
        "for root, dirs, files in os.walk(cwd):\n",
        "    for csv_file in files:\n",
        "        if csv_file == 'proteins.csv':\n",
        "            root_name = os.path.basename(root)\n",
        "            csv_name = f'{root_name}_proteins.csv'\n",
        "            csv_name_list.append(csv_name)\n",
        "            departure, destination = os.path.join(root, csv_file), os.path.join(cwd, csv_name)\n",
        "            shutil.move(departure, destination)"
      ],
      "metadata": {
        "id": "re7GFVEQ_qwS"
      },
      "execution_count": null,
      "outputs": []
    },
    {
      "cell_type": "code",
      "source": [
        "csv_name_list = ['Cormey_v2_SPIDER_CMAC_GL_proteins.csv', 'Cormey_v2_SPIDER_CMBE_GL_proteins.csv', 'Cormey_v2_SPIDER_CMPA_GL_proteins.csv']"
      ],
      "metadata": {
        "id": "f_AJf6ojTOTv"
      },
      "execution_count": null,
      "outputs": []
    },
    {
      "cell_type": "code",
      "source": [
        "title = 'Qualitative comparisons among C. Meyendorffii ecotype proteomes' #@param {\"type\":\"string\"}\n",
        "group_1 = \"A. calycularis\" # @param {\"type\":\"string\"}\n",
        "group_2 = \"B. europea\" # @param {\"type\":\"string\"}\n",
        "group_3 = \"P. axinellae\" # @param {\"type\":\"string\"}\n",
        "# Creation of DataFrame from csv file\n",
        "df_1, df_2, df_3 = pd.read_csv(csv_name_list[0]), pd.read_csv(csv_name_list[1]), pd.read_csv(csv_name_list[2])\n",
        "# Get list of protein accession name without repetition\n",
        "set_1, set_2, set_3 = set(df_1['Accession'].values.flatten()), set(df_2['Accession'].values.flatten()), set(df_3['Accession'].values.flatten())\n",
        "num_set_1, num_set_2, num_set_3 = len(set_1), len(set_2), len(set_3) # Number of the unique elements\n",
        "# Creation of intersection between groups\n",
        "I_1_2, I_1_3, I_2_3 = set_1.intersection(set_2), set_1.intersection(set_3), set_2.intersection(set_3)\n",
        "num_I_1_2, num_I_1_3, num_I_2_3 = len(I_1_2), len(I_1_3), len(I_2_3) # Number of intersection elements\n",
        "se = I_1_2.intersection(set_3) # List of elements shared by all the groups\n",
        "num_se = len(se) # Number of elements shared by all the groups\n",
        "# Diffetence between shared elements and intersection groups\n",
        "D_I_1_2 = I_1_2.difference(se)\n",
        "num_D_I_1_2 = len(D_I_1_2)\n",
        "D_I_1_3 = I_1_3.difference(se)\n",
        "num_D_I_1_3 = len(D_I_1_3)\n",
        "D_I_2_3 = I_2_3.difference(se)\n",
        "num_D_I_2_3 = len(D_I_2_3)\n",
        "# Elements owned only by one group\n",
        "U_I_1 = I_1_2.union(I_1_3)\n",
        "D_1 = set_1.difference(U_I_1)\n",
        "num_D_1 = len(D_1)\n",
        "U_I_2 = I_1_2.union(I_2_3)\n",
        "D_2 = set_2.difference(U_I_2)\n",
        "num_D_2 = len(D_2)\n",
        "U_I_3 = I_1_3.union(I_2_3)\n",
        "D_3 = set_3.difference(U_I_3)\n",
        "num_D_3 = len(D_3)"
      ],
      "metadata": {
        "id": "H20_Nby76k1P"
      },
      "execution_count": null,
      "outputs": []
    },
    {
      "cell_type": "markdown",
      "source": [
        "<h1> Venn diagram </h1>"
      ],
      "metadata": {
        "id": "xpYpHeV_p0Ym"
      }
    },
    {
      "cell_type": "code",
      "source": [
        "# @title Venn diagram for 3 groups\n",
        "# Plot Venn\n",
        "plt.figure(figsize=(4,4))\n",
        "plt.title(title)\n",
        "plt.tight_layout()\n",
        "venn3(subsets = (num_D_1, num_D_2, num_D_I_1_2, num_D_3, num_D_I_1_3, num_D_I_2_3, num_se),\n",
        "      set_labels = (group_1, group_2, group_3),\n",
        "      set_colors = ('c', 'y', 'm'), alpha=0.7)\n",
        "venn3_circles(subsets = (num_D_1, num_D_2, num_D_I_1_2, num_D_3, num_D_I_1_3, num_D_I_2_3, num_se), linewidth = 0.7, color = \"black\", linestyle = \"dashed\")\n",
        "# Save figure\n",
        "plt.savefig('Venn3_diagram.svg', format = 'svg', bbox_inches='tight')\n",
        "plt.show()"
      ],
      "metadata": {
        "id": "aJIYS8h6JaNw"
      },
      "execution_count": null,
      "outputs": []
    },
    {
      "cell_type": "markdown",
      "source": [
        "<h1>UpSet diagram</i>"
      ],
      "metadata": {
        "id": "VzMUQqh1nRn7"
      }
    },
    {
      "cell_type": "code",
      "source": [
        "# @title From UpSetPlot\n",
        "'''\n",
        "https://github.com/jnothman/UpSetPlot\n",
        "https://upsetplot.readthedocs.io/en/latest/auto_examples/plot_diabetes.html\n",
        "'''\n",
        "df_1[group_1], df_2[group_2], df_3[group_3] = True, True, True\n",
        "df_1 = df_1.sort_values(by = ['Accession', \"-10lgP\"], kind = 'stable')\n",
        "df_1_drop = df_1.drop_duplicates(subset = 'Accession', keep = 'last')\n",
        "df_2 = df_2.sort_values(by = ['Accession', \"-10lgP\"], kind = 'stable')\n",
        "df_2_drop = df_2.drop_duplicates(subset = 'Accession', keep = 'last')\n",
        "df_3 = df_3.sort_values(by = ['Accession', \"-10lgP\"], kind = 'stable')\n",
        "df_3_drop = df_3.drop_duplicates(subset = 'Accession', keep = 'last')\n",
        "df_drop_merge = df_1_drop.merge(df_2_drop.merge(df_3_drop, on='Accession', how='outer'), on='Accession', how='outer')\n",
        "df_drop_merge[group_1] = df_drop_merge[group_1].fillna(False)\n",
        "df_drop_merge[group_2] = df_drop_merge[group_2].fillna(False)\n",
        "df_drop_merge[group_3] = df_drop_merge[group_3].fillna(False)\n",
        "# Make sets index for the data frame\n",
        "df_drop_merge_upset = df_drop_merge.set_index([group_1, group_2, group_3])\n",
        "lst_features = ['-10lgP', 'Avg. Mass', 'Coverage (%)']\n",
        "for feature in lst_features:\n",
        "  df_drop_merge_upset[feature] = df_drop_merge_upset[feature].fillna(\n",
        "      df_drop_merge_upset[f'{feature}_x']).fillna(df_drop_merge_upset[f'{feature}_y'])"
      ],
      "metadata": {
        "id": "8mpH3PDRZ6Qd"
      },
      "execution_count": null,
      "outputs": []
    },
    {
      "cell_type": "code",
      "source": [
        "'''\n",
        "https://seaborn.pydata.org/generated/seaborn.catplot.html\n",
        "'''\n",
        "# Plot UpSet diagram\n",
        "plt.figure(figsize=(40,40))\n",
        "plt.tight_layout()\n",
        "upset_plot = UpSet(df_drop_merge_upset, subset_size='count')\n",
        "# Aggiungere questi sotto plot al UpSet plot\n",
        "upset_plot.add_catplot(value='Avg. Mass', kind='violin', color='lightblue', inner=None)\n",
        "upset_plot.add_catplot(value='Coverage (%)', kind='box', color='pink')\n",
        "upset_plot.add_catplot(value='-10lgP', kind='swarm', size=0.3, color='black')\n",
        "upset_plot.plot()\n",
        "plt.savefig('UpSet_plot.svg', format = 'svg')\n",
        "plt.show()"
      ],
      "metadata": {
        "id": "TQYa1MjHEepz"
      },
      "execution_count": null,
      "outputs": []
    },
    {
      "cell_type": "code",
      "source": [
        "# @markdown Alternative Method to produce an UpSet plot\n",
        "alt = False # @param {\"type\":\"boolean\"}\n",
        "if alt:\n",
        "  from upsetplot import from_memberships\n",
        "  lst = [[],[group_1],[group_2],[group_3],[group_1, group_2],[group_1, group_3],[group_2, group_3],[group_1, group_2, group_3]]\n",
        "  data = [0 ,num_D_1, num_D_2, num_D_3, num_D_I_1_2, num_D_I_1_3, num_D_I_2_3, num_se]\n",
        "  # Plot UpSet diagram\n",
        "  plt.tight_layout()\n",
        "  upset_data = from_memberships(lst, data)\n",
        "  upset_plot = UpSet(upset_data).plot() # Upset plot\n",
        "  plt.show()\n",
        "else:\n",
        "  url = 'https://community.wappler.io/uploads/default/original/3X/e/d/ed19b79f21d49e0b3a342d10c01e990e2bd316cb.png'\n",
        "  from PIL import Image\n",
        "  import requests\n",
        "  im = Image.open(requests.get(url, stream=True).raw)\n",
        "  display(im)"
      ],
      "metadata": {
        "id": "GBVJK5SX-7RC"
      },
      "execution_count": null,
      "outputs": []
    }
  ]
}